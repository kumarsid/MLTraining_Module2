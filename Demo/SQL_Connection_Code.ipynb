{
 "cells": [
  {
   "cell_type": "markdown",
   "metadata": {},
   "source": [
    "# SQL Server Connection and Data Processing\n",
    "\n",
    "This notebook demonstrates how to connect to a SQL Server database using `pyodbc`, fetch data, and display it using `pandas`.\n",
    "The steps include:\n",
    "1. Connecting to the SQL Server database using Windows authentication\n",
    "2. Running a SQL query to fetch data\n",
    "3. Displaying the data in a `pandas` DataFrame\n",
    "4. Formatting the display for better readability"
   ]
  },
  {
   "cell_type": "code",
   "execution_count": 7,
   "id": "af44ff5f",
   "metadata": {},
   "outputs": [],
   "source": [
    "from sqlalchemy import create_engine  # Library for connecting to SQL Server\n",
    "import pandas as pd  # Library for handling data in DataFrames"
   ]
  },
  {
   "cell_type": "markdown",
   "metadata": {},
   "source": [
    "## Step 1: Define Connection Parameters\n",
    "\n",
    "First, we define the **server** and **database** details needed to connect to the SQL Server database."
   ]
  },
  {
   "cell_type": "code",
   "execution_count": 8,
   "id": "bbcff299",
   "metadata": {},
   "outputs": [],
   "source": [
    "server = r'PSFADHSSTP02.ad.elc.nhs.uk\\SWL'\n",
    "database = 'Data_Lab_SWL_Dev'\n",
    "driver = 'ODBC Driver 17 for SQL Server' "
   ]
  },
  {
   "cell_type": "markdown",
   "metadata": {},
   "source": [
    "## Step 2: Create a Connection String and Create a SQLAlchemy engine\n",
    "\n",
    "Next, we create the connection string, which will use **Windows authentication** to establish the connection to SQL Server. \n"
   ]
  },
  {
   "cell_type": "code",
   "execution_count": 9,
   "id": "bfe4989f",
   "metadata": {},
   "outputs": [],
   "source": [
    "conn_str = f'mssql+pyodbc://{server}/{database}?trusted_connection=yes&driver={driver}'\n",
    "engine = create_engine(conn_str)"
   ]
  },
  {
   "cell_type": "markdown",
   "metadata": {},
   "source": [
    "## Step 3: Define and Run SQL Query\n",
    "\n",
    "We define the SQL query that will fetch the top 100 records from a specific table and then execute it."
   ]
  },
  {
   "cell_type": "code",
   "execution_count": 10,
   "id": "a5e9d26e",
   "metadata": {},
   "outputs": [],
   "source": [
    "query = \"\"\"\n",
    "SELECT TOP 100 * FROM [Data_Lab_SWL_Dev].[dbo].[Deprivation2019]\n",
    "\"\"\""
   ]
  },
  {
   "cell_type": "markdown",
   "metadata": {},
   "source": [
    "## Step 4: Load the Data into Pandas DataFrame\n",
    "\n",
    "The query results are loaded into a **pandas DataFrame** for further analysis and processing."
   ]
  },
  {
   "cell_type": "code",
   "execution_count": 12,
   "id": "afed98df",
   "metadata": {},
   "outputs": [],
   "source": [
    "df = pd.read_sql(query, engine)"
   ]
  },
  {
   "cell_type": "markdown",
   "metadata": {},
   "source": [
    "## Step 5: Format Data Display\n",
    "\n",
    "To ensure the float values in the DataFrame are displayed neatly, we set a formatting option for pandas."
   ]
  },
  {
   "cell_type": "code",
   "execution_count": 13,
   "id": "d4b85a1e",
   "metadata": {},
   "outputs": [],
   "source": [
    "pd.set_option('display.float_format', '{:.2f}'.format)"
   ]
  },
  {
   "cell_type": "markdown",
   "metadata": {},
   "source": [
    "## Step 6: Display the Data\n",
    "\n",
    "Finally, we display the first few rows of the DataFrame using `df.head()`. This shows us a preview of the data fetched from the database."
   ]
  },
  {
   "cell_type": "code",
   "execution_count": null,
   "id": "d0fbd742",
   "metadata": {},
   "outputs": [],
   "source": [
    "df.head()"
   ]
  }
 ],
 "metadata": {
  "kernelspec": {
   "display_name": "Python 3",
   "language": "python",
   "name": "python3"
  },
  "language_info": {
   "codemirror_mode": {
    "name": "ipython",
    "version": 3
   },
   "file_extension": ".py",
   "mimetype": "text/x-python",
   "name": "python",
   "nbconvert_exporter": "python",
   "pygments_lexer": "ipython3",
   "version": "3.12.8"
  }
 },
 "nbformat": 4,
 "nbformat_minor": 5
}
