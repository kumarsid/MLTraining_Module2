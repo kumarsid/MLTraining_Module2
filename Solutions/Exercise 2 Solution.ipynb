{
 "cells": [
  {
   "cell_type": "markdown",
   "metadata": {},
   "source": [
    "# Pandas Exercise - Pandas Pop\n",
    "# SOLUTIONS\n",
    "\n",
    "You should complete this exercise when prompted by the trainer as part of Session 1F : Python Programming Part 2 of the HSMA Programme.  Note - you only need to import and store the data in a DataFrame once (in the first task).  As long as that cell is run correctly, you don't need to do this again for each subsequent code cell."
   ]
  },
  {
   "cell_type": "markdown",
   "metadata": {},
   "source": [
    "**Task 1** Import Pandas with the appropriate alias, and read in the titanic_dataset.csv file into a Pandas DataFrame, setting the column PassengerId to be the index for the DataFrame.  Then display the first 10 rows of the DataFrame. (NOTE - ensure that the .csv is located in the same directory as this notebook - it is by default)"
   ]
  },
  {
   "cell_type": "code",
   "execution_count": null,
   "metadata": {},
   "outputs": [],
   "source": [
    "import pandas as pd\n",
    "\n",
    "titanic_df = pd.read_csv(\"titanic_dataset.csv\", index_col=\"PassengerId\")\n",
    "\n",
    "titanic_df.head(10)"
   ]
  },
  {
   "cell_type": "markdown",
   "metadata": {},
   "source": [
    "**Task 2** Create a new DataFrame that contains only the PassengerID, Name and Sex fields from the main data.  Display the first 10 entries of this new DataFrame."
   ]
  },
  {
   "cell_type": "code",
   "execution_count": null,
   "metadata": {},
   "outputs": [],
   "source": [
    "titanic_name_and_sex = titanic_df[[\"Name\",\"Sex\"]]\n",
    "\n",
    "titanic_name_and_sex.head(10)"
   ]
  },
  {
   "cell_type": "markdown",
   "metadata": {},
   "source": [
    "**Task 3** Create three new DataFrames that contain all the information from the original data but only for first class, second class and third class passengers respectively.  Display the first 10 entries of second class passengers."
   ]
  },
  {
   "cell_type": "code",
   "execution_count": null,
   "metadata": {},
   "outputs": [],
   "source": [
    "titanic_first_class = titanic_df.loc[titanic_df[\"Pclass\"] == 1]\n",
    "titanic_second_class = titanic_df.loc[titanic_df[\"Pclass\"] == 2]\n",
    "titanic_third_class = titanic_df.loc[titanic_df[\"Pclass\"] == 3]\n",
    "\n",
    "titanic_second_class.head(10)"
   ]
  },
  {
   "cell_type": "markdown",
   "metadata": {},
   "source": [
    "**Task 4** Create a new DataFrame from the original data that contains all the information about female children passengers (those 16 and under).  Sort this DataFrame by age and then by passenger class, and display ALL the records."
   ]
  },
  {
   "cell_type": "code",
   "execution_count": null,
   "metadata": {},
   "outputs": [],
   "source": [
    "titanic_female_children = titanic_df.loc[(titanic_df[\"Sex\"] == \"female\") & (titanic_df[\"Age\"] <= 16)]\n",
    "\n",
    "titanic_female_children.sort_values(by=[\"Age\", \"Pclass\"], inplace=True)\n",
    "\n",
    "titanic_female_children"
   ]
  },
  {
   "cell_type": "markdown",
   "metadata": {},
   "source": [
    "**Task 5** Remove the name, ticket number and cabin number columns from the original dataset (so they are no longer in the original data) and display the first 10 records."
   ]
  },
  {
   "cell_type": "code",
   "execution_count": null,
   "metadata": {},
   "outputs": [],
   "source": [
    "titanic_df.drop([\"Name\", \"Ticket\", \"Cabin\"], axis=1, inplace=True)\n",
    "\n",
    "titanic_df.head(10)"
   ]
  },
  {
   "cell_type": "markdown",
   "metadata": {},
   "source": [
    "**Task 6** Count how many males and females are in the data."
   ]
  },
  {
   "cell_type": "code",
   "execution_count": null,
   "metadata": {},
   "outputs": [],
   "source": [
    "titanic_df[\"Sex\"].value_counts()"
   ]
  },
  {
   "cell_type": "markdown",
   "metadata": {},
   "source": [
    "**Task 7** Use a pivot table to compare the mean age, number of siblings and spouses and fare paid across the three passenger classes."
   ]
  },
  {
   "cell_type": "code",
   "execution_count": null,
   "metadata": {},
   "outputs": [],
   "source": [
    "pivot_class = pd.pivot_table(data=titanic_df, index=\"Pclass\",\n",
    "                            values=[\"Age\", \"SibSp\", \"Fare\"], aggfunc=\"mean\")\n",
    "\n",
    "pivot_class"
   ]
  },
  {
   "cell_type": "markdown",
   "metadata": {},
   "source": [
    "**Task 8** Use a pivot table to compare the median fare paid across each of the three embarkation points."
   ]
  },
  {
   "cell_type": "code",
   "execution_count": null,
   "metadata": {},
   "outputs": [],
   "source": [
    "pivot_embark_fare = pd.pivot_table(data=titanic_df, index=\"Embarked\",\n",
    "                                  values=\"Fare\", aggfunc=\"median\")\n",
    "\n",
    "pivot_embark_fare"
   ]
  }
 ],
 "metadata": {
  "kernelspec": {
   "display_name": "base",
   "language": "python",
   "name": "python3"
  },
  "language_info": {
   "codemirror_mode": {
    "name": "ipython",
    "version": 3
   },
   "file_extension": ".py",
   "mimetype": "text/x-python",
   "name": "python",
   "nbconvert_exporter": "python",
   "pygments_lexer": "ipython3",
   "version": "3.11.4"
  }
 },
 "nbformat": 4,
 "nbformat_minor": 2
}
