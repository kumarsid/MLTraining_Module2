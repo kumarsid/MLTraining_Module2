{
 "cells": [
  {
   "cell_type": "markdown",
   "metadata": {},
   "source": [
    "# Introduction to NumPy Exercise - SOLUTIONS\n",
    "\n",
    "You should complete this exercise when prompted by the trainer as part of session 1F : Python Programming Part 2 of the HSMA Programme."
   ]
  },
  {
   "cell_type": "markdown",
   "metadata": {},
   "source": [
    "**Task 1** Create two NumPy arrays - one with all the odd numbers from 1 to 999,999 and one with all the even numbers from 2 to 1,000,000.  Calculate and print the dot product of these two arrays."
   ]
  },
  {
   "cell_type": "code",
   "execution_count": null,
   "metadata": {},
   "outputs": [],
   "source": [
    "### IMPORTANT - IF YOU DO NOT INCLUDE THE DATA TYPE INT64, YOU WILL GET THE \n",
    "### WRONG ANSWER ON WINDOWS, AS IT ONLY USES 32-BIT INTEGERS BY DEFAULT.\n",
    "\n",
    "import numpy as np # import numpy under the alias np\n",
    "\n",
    "# Create two NumPy arrays representing odd and even numbers up to 1 million\n",
    "odds_array = np.arange(1, 1000000, 2, dtype='int64')\n",
    "evens_array = np.arange(2, 1000001, 2, dtype='int64')\n",
    "\n",
    "# Take the dot product of the two arrays\n",
    "dot_odds_evens = np.dot(odds_array, evens_array)\n",
    "\n",
    "# Print the dot product\n",
    "print (dot_odds_evens)\n"
   ]
  },
  {
   "cell_type": "markdown",
   "metadata": {},
   "source": [
    "**Task 2** A training provider has 10 centres, each with 1000 students that have taken an assessment.  Randomly generate scores for each student in each centre, which should be represented in a NumPy array.  Each score should be between 0 and 1, representing a percentage achieved on the assessment.  Then calculate the mean score achieved by students at each centre.  Once calculated, the means should be converted into percentages (ie from values between 0 and 1 to values between 0 and 100) which you should store as a NumPy array, and then rounded to 2 decimal places, which you should overwrite in THE SAME array of percentages.  Finally, print the rounded percentage scores for each centre.\n",
    "\n",
    "HINT - there are NumPy functions that allow you to create an array consisting of random floating point numbers between 0 and 1, and to create an array of rounded numbers from a given array.  But I haven't told you what they are.  I'd suggest as a group you go hunting on the internet... You could also check the NumPy documentation here : https://numpy.org/doc/stable/index.html (though be warned, it's extensive!)"
   ]
  },
  {
   "cell_type": "code",
   "execution_count": null,
   "metadata": {},
   "outputs": [],
   "source": [
    "import numpy as np # import numpy under the alias np (if cell above not run)\n",
    "\n",
    "# Randomly generate 1000 student scores for each of 10 centres\n",
    "student_scores = np.random.rand(10,1000)\n",
    "\n",
    "# Calculate the mean score per centre\n",
    "mean_per_centre = np.mean(student_scores, axis=1)\n",
    "\n",
    "# Multiply the scores by 100 to generate an array of percentages\n",
    "mean_centre_perc = mean_per_centre * 100\n",
    "\n",
    "# Round the percentage scores to 2dp to generate an array of rounded percentages\n",
    "mean_centre_perc = np.round(mean_centre_perc, 2)\n",
    "\n",
    "# Print the mean student score in each centre\n",
    "print (\"The means for each centre were : \")\n",
    "print (mean_centre_perc)"
   ]
  }
 ],
 "metadata": {
  "kernelspec": {
   "display_name": "base",
   "language": "python",
   "name": "python3"
  },
  "language_info": {
   "codemirror_mode": {
    "name": "ipython",
    "version": 3
   },
   "file_extension": ".py",
   "mimetype": "text/x-python",
   "name": "python",
   "nbconvert_exporter": "python",
   "pygments_lexer": "ipython3",
   "version": "3.11.4"
  }
 },
 "nbformat": 4,
 "nbformat_minor": 2
}
